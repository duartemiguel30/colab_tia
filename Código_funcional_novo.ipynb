{
  "nbformat": 4,
  "nbformat_minor": 0,
  "metadata": {
    "colab": {
      "provenance": [],
      "authorship_tag": "ABX9TyNiG6TukyjQOEx2mhBKc57B",
      "include_colab_link": true
    },
    "kernelspec": {
      "name": "python3",
      "display_name": "Python 3"
    },
    "language_info": {
      "name": "python"
    }
  },
  "cells": [
    {
      "cell_type": "markdown",
      "metadata": {
        "id": "view-in-github",
        "colab_type": "text"
      },
      "source": [
        "<a href=\"https://colab.research.google.com/github/duartemiguel30/colab_tia/blob/main/C%C3%B3digo_funcional_novo.ipynb\" target=\"_parent\"><img src=\"https://colab.research.google.com/assets/colab-badge.svg\" alt=\"Open In Colab\"/></a>"
      ]
    },
    {
      "cell_type": "code",
      "execution_count": null,
      "metadata": {
        "colab": {
          "base_uri": "https://localhost:8080/",
          "height": 17,
          "referenced_widgets": [
            "1b6f0c72df674b7ab39d1222353db18d",
            "226d39433777442c960609107b5dc239",
            "74b50b5dac254410897f5f7d7d9213c8",
            "2e09cbe5b4c8492b924cce88df522704",
            "d779cac8c21f4c17a62d66bd35a6cd8f",
            "bfd6e92c02284cc29b73cde24306ea6a",
            "148abc912de24efaa16c01b4b2d269f9",
            "8f6ce17e5e7741cd96e9c2053fdfd598",
            "03baf68fd4084f71ac41e6dce462d87c",
            "f74563d2134f45d291618d74d5629f4f",
            "c97d325d0385490dbd62987a236ac716",
            "46aee2be425348b0bd84e3f1345cc7f7",
            "5d7e0504b016455cbb85bffc4f2a4c6a",
            "92a502d9a6d04862b67124e341d5632d",
            "365c8b66b5c5441191c74caa668ef172",
            "bb341ae3be20433388ab8b641147ab57",
            "9f9114e51c5743e88f8199cfc3fc7992",
            "28012c1a214c4d9ebf97d88f3c37cc11",
            "4d9d5a7eb27e4846bd58340d8576f853",
            "1f0f96543913447f9a61448f4cba4fe7"
          ]
        },
        "id": "ScpVtzHwSuB6",
        "outputId": "19facf08-8c80-42f4-b60a-08fe4d62efc6"
      },
      "outputs": [],
      "source": [
        "!pip install -q transformers datasets accelerate peft bitsandbytes trl\n",
        "from huggingface_hub import login\n",
        "login()"
      ]
    },
    {
      "cell_type": "code",
      "execution_count": null,
      "metadata": {
        "colab": {
          "base_uri": "https://localhost:8080/",
          "height": 252
        },
        "id": "HRPny83PTUK5",
        "outputId": "d19f5d07-fc61-438e-cdc1-58dc839c1fc4"
      },
      "outputs": [],
      "source": [
        "from datasets import load_dataset, ClassLabel\n",
        "from transformers import AutoTokenizer, AutoModelForSequenceClassification, Trainer, TrainingArguments\n",
        "\n",
        "train_path = \"/content/casos_convertidos_com_invalidos.jsonl\"\n",
        "dataset = load_dataset(\"json\", data_files=train_path, split=\"train\")\n",
        "\n",
        "labels = [\"amarela\", \"laranja\", \"caso inválido\", \"vermelha\", \"azul\", \"verde\"]\n",
        "class_label = ClassLabel(names=labels)\n",
        "\n",
        "def converter_label(ex):\n",
        "    ex[\"label_id\"] = class_label.str2int(ex[\"labels\"])\n",
        "    return ex\n",
        "\n",
        "dataset = dataset.map(converter_label)\n",
        "\n",
        "modelo_nome = \"neuralmind/bert-base-portuguese-cased\"\n",
        "tokenizer = AutoTokenizer.from_pretrained(modelo_nome)\n",
        "\n",
        "def tokenizar(ex):\n",
        "    return tokenizer(\n",
        "        ex[\"text\"],\n",
        "        truncation=True,\n",
        "        padding=\"max_length\",\n",
        "        max_length=128\n",
        "    )\n",
        "\n",
        "dataset = dataset.map(tokenizar)\n",
        "dataset = dataset.remove_columns([\"labels\"])\n",
        "dataset = dataset.rename_column(\"label_id\", \"labels\")\n",
        "dataset = dataset.remove_columns([\"text\"])\n",
        "\n",
        "modelo = AutoModelForSequenceClassification.from_pretrained(\n",
        "    modelo_nome,\n",
        "    num_labels=len(labels),\n",
        "    id2label={i: l for i, l in enumerate(labels)},\n",
        "    label2id={l: i for i, l in enumerate(labels)}\n",
        ")\n",
        "\n",
        "args = TrainingArguments(\n",
        "    output_dir=\"./modelo_treinado\",\n",
        "    per_device_train_batch_size=16,\n",
        "    num_train_epochs=2,\n",
        "    learning_rate=2e-5,\n",
        "    logging_dir=\"./logs\",\n",
        "    report_to=\"none\",\n",
        "    fp16=True\n",
        ")\n",
        "\n",
        "trainer = Trainer(\n",
        "    model=modelo,\n",
        "    args=args,\n",
        "    train_dataset=dataset,\n",
        "    tokenizer=tokenizer\n",
        ")\n",
        "\n",
        "trainer.train()\n",
        "modelo.save_pretrained(\"./modelo_treinado\")\n",
        "tokenizer.save_pretrained(\"./modelo_treinado\")\n"
      ]
    },
    {
      "cell_type": "code",
      "execution_count": null,
      "metadata": {
        "id": "qKbnJNcSqpjV",
        "colab": {
          "base_uri": "https://localhost:8080/"
        },
        "outputId": "19e5cf25-c1c0-472e-8a3d-de8ce6a1dcc6"
      },
      "outputs": [],
      "source": [
        "from transformers import pipeline\n",
        "\n",
        "modelo_path = \"./modelo_treinado\"\n",
        "clf = pipeline(\"text-classification\", model=modelo_path, tokenizer=modelo_path)\n",
        "\n",
        "texto = \"Paciente com dores da cabeça .\"\n",
        "resultado = clf(texto)\n",
        "print(\"Resultado:\", resultado)\n"
      ]
    }
  ]
}
