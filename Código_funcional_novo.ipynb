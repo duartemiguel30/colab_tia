{
  "nbformat": 4,
  "nbformat_minor": 0,
  "metadata": {
    "colab": {
      "provenance": [],
      "authorship_tag": "ABX9TyNiG6TukyjQOEx2mhBKc57B",
      "include_colab_link": true
    },
    "kernelspec": {
      "name": "python3",
      "display_name": "Python 3"
    },
    "language_info": {
      "name": "python"
    },
  "cells": [
    {
      "cell_type": "markdown",
      "metadata": {
        "id": "view-in-github",
        "colab_type": "text"
      },
      "source": [
        "<a href=\"https://colab.research.google.com/github/duartemiguel30/colab_tia/blob/main/C%C3%B3digo_funcional_novo.ipynb\" target=\"_parent\"><img src=\"https://colab.research.google.com/assets/colab-badge.svg\" alt=\"Open In Colab\"/></a>"
      ]
    },
    {
      "cell_type": "code",
      "execution_count": null,
      "metadata": {
        "colab": {
          "base_uri": "https://localhost:8080/",
          "height": 17,
          "referenced_widgets": [
            "1b6f0c72df674b7ab39d1222353db18d",
            "226d39433777442c960609107b5dc239",
            "74b50b5dac254410897f5f7d7d9213c8",
            "2e09cbe5b4c8492b924cce88df522704",
            "d779cac8c21f4c17a62d66bd35a6cd8f",
            "bfd6e92c02284cc29b73cde24306ea6a",
            "148abc912de24efaa16c01b4b2d269f9",
            "8f6ce17e5e7741cd96e9c2053fdfd598",
            "03baf68fd4084f71ac41e6dce462d87c",
            "f74563d2134f45d291618d74d5629f4f",
            "c97d325d0385490dbd62987a236ac716",
            "46aee2be425348b0bd84e3f1345cc7f7",
            "5d7e0504b016455cbb85bffc4f2a4c6a",
            "92a502d9a6d04862b67124e341d5632d",
            "365c8b66b5c5441191c74caa668ef172",
            "bb341ae3be20433388ab8b641147ab57",
            "9f9114e51c5743e88f8199cfc3fc7992",
            "28012c1a214c4d9ebf97d88f3c37cc11",
            "4d9d5a7eb27e4846bd58340d8576f853",
            "1f0f96543913447f9a61448f4cba4fe7"
          ]
        },
        "id": "ScpVtzHwSuB6",
        "outputId": "19facf08-8c80-42f4-b60a-08fe4d62efc6"
      },
      "outputs": [
        {
          "output_type": "display_data",
          "data": {
            "text/plain": [
              "VBox(children=(HTML(value='<center> <img\\nsrc=https://huggingface.co/front/assets/huggingface_logo-noborder.sv…"
            ],
            "application/vnd.jupyter.widget-view+json": {
              "version_major": 2,
              "version_minor": 0,
              "model_id": "1b6f0c72df674b7ab39d1222353db18d"
            }
          },
          "metadata": {}
        }
      ],
      "source": [
        "!pip install -q transformers datasets accelerate peft bitsandbytes trl\n",
        "\n",
        "from huggingface_hub import login\n",
        "login()"
      ]
    },
    {
      "cell_type": "code",
      "source": [
        "from datasets import load_dataset, ClassLabel\n",
        "from transformers import AutoTokenizer, AutoModelForSequenceClassification, Trainer, TrainingArguments\n",
        "\n",
        "# Caminho do seu arquivo JSONL\n",
        "train_path = \"/content/casos_convertidos_com_invalidos.jsonl\"\n",
        "\n",
        "# Carrega o dataset do JSONL\n",
        "dataset = load_dataset(\"json\", data_files=train_path, split=\"train\")\n",
        "\n",
        "# Define as labels manualmente (ordem importa!)\n",
        "labels = [\"amarela\", \"laranja\", \"caso inválido\", \"vermelha\", \"azul\", \"verde\"]\n",
        "class_label = ClassLabel(names=labels)\n",
        "\n",
        "# Converte label textual para índice numérico\n",
        "def converter_label(ex):\n",
        "    ex[\"label_id\"] = class_label.str2int(ex[\"labels\"])  # usa coluna 'labels' que está no JSON\n",
        "    return ex\n",
        "\n",
        "dataset = dataset.map(converter_label)\n",
        "\n",
        "# Tokenização com BERT português\n",
        "modelo_nome = \"neuralmind/bert-base-portuguese-cased\"\n",
        "tokenizer = AutoTokenizer.from_pretrained(modelo_nome)\n",
        "\n",
        "def tokenizar(ex):\n",
        "    return tokenizer(\n",
        "        ex[\"text\"],\n",
        "        truncation=True,\n",
        "        padding=\"max_length\",\n",
        "        max_length=128\n",
        "    )\n",
        "\n",
        "dataset = dataset.map(tokenizar)\n",
        "\n",
        "# Remove coluna textual 'labels' antes de renomear\n",
        "dataset = dataset.remove_columns([\"labels\"])  # remove string\n",
        "dataset = dataset.rename_column(\"label_id\", \"labels\")  # renomeia id para 'labels' (agora numérico)\n",
        "\n",
        "# Remove outras colunas desnecessárias (opcional, mas recomendado)\n",
        "dataset = dataset.remove_columns([\"text\"])  # mantém só input_ids, attention_mask, labels\n",
        "\n",
        "# Carrega modelo pré-treinado para classificação\n",
        "modelo = AutoModelForSequenceClassification.from_pretrained(\n",
        "    modelo_nome,\n",
        "    num_labels=len(labels),\n",
        "    id2label={i: l for i, l in enumerate(labels)},\n",
        "    label2id={l: i for i, l in enumerate(labels)}\n",
        ")\n",
        "\n",
        "args = TrainingArguments(\n",
        "    output_dir=\"./modelo_treinado\",\n",
        "    per_device_train_batch_size=16,\n",
        "    num_train_epochs=2,\n",
        "    learning_rate=2e-5,\n",
        "    logging_dir=\"./logs\",\n",
        "    report_to=\"none\",\n",
        "    fp16=True\n",
        ")\n",
        "\n",
        "# Inicializa o Trainer\n",
        "trainer = Trainer(\n",
        "    model=modelo,\n",
        "    args=args,\n",
        "    train_dataset=dataset,\n",
        "    tokenizer=tokenizer\n",
        ")\n",
        "\n",
        "# Treina o modelo\n",
        "trainer.train()\n",
        "\n",
        "# Salva o modelo e o tokenizer\n",
        "modelo.save_pretrained(\"./modelo_treinado\")\n",
        "tokenizer.save_pretrained(\"./modelo_treinado\")\n"
      ],
      "metadata": {
        "colab": {
          "base_uri": "https://localhost:8080/",
          "height": 252
        },
        "id": "HRPny83PTUK5",
        "outputId": "d19f5d07-fc61-438e-cdc1-58dc839c1fc4"
      },
      "execution_count": null,
      "outputs": [
        {
          "output_type": "stream",
          "name": "stderr",
          "text": [
            "Some weights of BertForSequenceClassification were not initialized from the model checkpoint at neuralmind/bert-base-portuguese-cased and are newly initialized: ['classifier.bias', 'classifier.weight']\n",
            "You should probably TRAIN this model on a down-stream task to be able to use it for predictions and inference.\n",
            "<ipython-input-17-fb29749ee7ed>:61: FutureWarning: `tokenizer` is deprecated and will be removed in version 5.0.0 for `Trainer.__init__`. Use `processing_class` instead.\n",
            "  trainer = Trainer(\n"
          ]
        },
        {
          "output_type": "display_data",
          "data": {
            "text/plain": [
              "<IPython.core.display.HTML object>"
            ],
            "text/html": [
              "\n",
              "    <div>\n",
              "      \n",
              "      <progress value='126' max='126' style='width:300px; height:20px; vertical-align: middle;'></progress>\n",
              "      [126/126 1:01:02, Epoch 2/2]\n",
              "    </div>\n",
              "    <table border=\"1\" class=\"dataframe\">\n",
              "  <thead>\n",
              " <tr style=\"text-align: left;\">\n",
              "      <th>Step</th>\n",
              "      <th>Training Loss</th>\n",
              "    </tr>\n",
              "  </thead>\n",
              "  <tbody>\n",
              "  </tbody>\n",
              "</table><p>"
            ]
          },
          "metadata": {}
        },
        {
          "output_type": "execute_result",
          "data": {
            "text/plain": [
              "('./modelo_treinado/tokenizer_config.json',\n",
              " './modelo_treinado/special_tokens_map.json',\n",
              " './modelo_treinado/vocab.txt',\n",
              " './modelo_treinado/added_tokens.json',\n",
              " './modelo_treinado/tokenizer.json')"
            ]
          },
          "metadata": {},
          "execution_count": 17
        }
      ]
    },
    {
      "cell_type": "code",
      "source": [
        "from transformers import pipeline\n",
        "\n",
        "# Caminho onde o modelo e o tokenizer foram salvos\n",
        "modelo_path = \"./modelo_treinado\"\n",
        "\n",
        "# Cria pipeline de classificação de texto\n",
        "clf = pipeline(\"text-classification\", model=modelo_path, tokenizer=modelo_path)\n",
        "\n",
        "# Teste com um exemplo\n",
        "texto = \"Paciente com dores da cabeça .\"\n",
        "resultado = clf(texto)\n",
        "\n",
        "print(\"Resultado:\", resultado)\n"
      ],
      "metadata": {
        "id": "qKbnJNcSqpjV",
        "colab": {
          "base_uri": "https://localhost:8080/"
        },
        "outputId": "19e5cf25-c1c0-472e-8a3d-de8ce6a1dcc6"
      },
      "execution_count": null,
      "outputs": [
        {
          "output_type": "stream",
          "name": "stderr",
          "text": [
            "Device set to use cpu\n"
          ]
        },
        {
          "output_type": "stream",
          "name": "stdout",
          "text": [
            "Resultado: [{'label': 'verde', 'score': 0.5813533663749695}]\n"
          ]
        }
      ]
    }
  ]
}
